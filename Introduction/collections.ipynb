{
 "cells": [
  {
   "cell_type": "markdown",
   "metadata": {},
   "source": [
    "# Python introductory course"
   ]
  },
  {
   "cell_type": "markdown",
   "metadata": {},
   "source": [
    "## Collections"
   ]
  },
  {
   "cell_type": "markdown",
   "metadata": {},
   "source": [
    "#### In Python we can group values into collections. For example:"
   ]
  },
  {
   "cell_type": "markdown",
   "metadata": {},
   "source": [
    " - Tuples - writen by separating values with a comma (`,`). Usually writen in parentheses. Tuples are immutable, that is, one cannot change, remove or add tuple members."
   ]
  },
  {
   "cell_type": "code",
   "execution_count": 1,
   "metadata": {},
   "outputs": [
    {
     "data": {
      "text/plain": [
       "(1, 2, 'some value', 12.3134, True)"
      ]
     },
     "execution_count": 1,
     "metadata": {},
     "output_type": "execute_result"
    }
   ],
   "source": [
    "1, 2, 2, \"some value\", 12.3134, True"
   ]
  },
  {
   "cell_type": "markdown",
   "metadata": {},
   "source": [
    " - Arrays - also called lists, writen by separating with a comma in square brackets (`[ ]`). Can be modified."
   ]
  },
  {
   "cell_type": "code",
   "execution_count": 2,
   "metadata": {},
   "outputs": [
    {
     "data": {
      "text/plain": [
       "[1, 2, 'some value', 12.3134, True]"
      ]
     },
     "execution_count": 2,
     "metadata": {},
     "output_type": "execute_result"
    }
   ],
   "source": [
    "[1, 2, 2, \"some value\", 12.3134, True]"
   ]
  },
  {
   "cell_type": "markdown",
   "metadata": {},
   "source": [
    " - Sets - writen by separating with a comma in curly brackets (`{ }`). Mutable, however inserting several identical values result with only one contained. Also, sets do not hold the order."
   ]
  },
  {
   "cell_type": "code",
   "execution_count": 10,
   "metadata": {},
   "outputs": [
    {
     "data": {
      "text/plain": [
       "{1, 12.3134, 2, 'some value'}"
      ]
     },
     "execution_count": 10,
     "metadata": {},
     "output_type": "execute_result"
    }
   ],
   "source": [
    "{1, 2, 2, \"some value\", 12.3134, True}"
   ]
  },
  {
   "cell_type": "markdown",
   "metadata": {},
   "source": [
    " - Dictionaries - collection of values with associated keys. Written by separating with a comma in curly brackets (`{ }`) with element written as a pair key-value separated by a colon (`:`). Cannot contain two values with the same key."
   ]
  },
  {
   "cell_type": "code",
   "execution_count": 19,
   "metadata": {},
   "outputs": [
    {
     "data": {
      "text/plain": [
       "{'key1': 1, 2: 2, 3: 2, 'another key': 'some value', True: 12.3134, 3.14: True}"
      ]
     },
     "execution_count": 19,
     "metadata": {},
     "output_type": "execute_result"
    }
   ],
   "source": [
    "{\"key1\":1, 2:1, 2:2, 3:2, \"another key\":\"some value\", True:12.3134, 3.14:True}"
   ]
  },
  {
   "cell_type": "markdown",
   "metadata": {},
   "source": [
    "and many others..."
   ]
  },
  {
   "cell_type": "markdown",
   "metadata": {},
   "source": [
    "### Operations on collections"
   ]
  },
  {
   "cell_type": "markdown",
   "metadata": {},
   "source": [
    "Collections should contain several accessible elements. Main operations on collections are finding, adding, removing and modifying elements."
   ]
  },
  {
   "cell_type": "markdown",
   "metadata": {},
   "source": [
    "##### Tuples are the most primitive form of a colection and are unmodifiable. Tuples can be decomposed into several variables and each tuple element can be accessed by square brackets (`[ ]`) with the elements's index counting from $0$."
   ]
  },
  {
   "cell_type": "markdown",
   "metadata": {},
   "source": [
    "###### Collections in most programming languages are counted from 0 because programs hold information about location of the collection in computer's memory. Counting from zero means that we can access i-th element using formula $i \\cdot s + a$, where $s$ is the size of a single element (assuming all the elements of the same size) and $a$ is the address of the collection in the computer's memory."
   ]
  },
  {
   "cell_type": "code",
   "execution_count": 16,
   "metadata": {},
   "outputs": [
    {
     "name": "stdout",
     "output_type": "stream",
     "text": [
      "After decomposition, respectively, first, second, second and third element of the tuple are 1 2 2 3\n",
      "The text representation of the tuple is (1, 2, 3)\n",
      "1st element of the tuple is 2\n",
      "0th element of the tuple is 1\n"
     ]
    }
   ],
   "source": [
    "example_tuple = (1, 2, 3) # example_tuple = 1, 2, 3 is also a valid form\n",
    "a, b, c = example_tuple\n",
    "print(\"After decomposition, respectively, first, second, second and third element of the tuple are\",a, b, b, c)\n",
    "print(\"The text representation of the tuple is\", example_tuple)\n",
    "print(\"1st element of the tuple is\", example_tuple[1])\n",
    "print(\"0th element of the tuple is\", example_tuple[0])"
   ]
  },
  {
   "cell_type": "markdown",
   "metadata": {},
   "source": [
    "##### Arrays (in Python called lists) are modifiable (you can modify elements) and extendable (elements can be added or removed). Can be decomposed into several variables and elements are accessed by square brackets (`[ ]`) with the element's index counting from $0$."
   ]
  },
  {
   "cell_type": "code",
   "execution_count": 26,
   "metadata": {},
   "outputs": [
    {
     "name": "stdout",
     "output_type": "stream",
     "text": [
      "After decomposition, respectively, first, second, second and third element of the array are 1 2 2 3\n",
      "The text representation of the array is [1, 2, 3]\n",
      "1st element of the array is 2\n",
      "0th element of the array is 1\n",
      "After modification of 2nd element of the array its text representation is [1, 2, 4]\n",
      "2 is located under index 1\n",
      "When asking, if 3 is in the array we get False\n"
     ]
    }
   ],
   "source": [
    "example_array = [1, 2, 3]\n",
    "a, b, c = example_array\n",
    "\n",
    "print(\"After decomposition, respectively, first, second, second and third element of the array are\",a, b, b, c)\n",
    "print(\"The text representation of the array is\", example_array)\n",
    "print(\"1st element of the array is\", example_array[1])\n",
    "print(\"0th element of the array is\", example_array[0])"
   ]
  },
  {
   "cell_type": "markdown",
   "metadata": {},
   "source": [
    "We can modify elements of arrays by assigning values under specified index. We can find index of an element by using array's attribute `index`. We can check if elemenent is in an array by using operator `in`."
   ]
  },
  {
   "cell_type": "code",
   "execution_count": 27,
   "metadata": {},
   "outputs": [
    {
     "name": "stdout",
     "output_type": "stream",
     "text": [
      "After modification of 2nd element of the array its text representation is [1, 2, 4]\n",
      "2 is located under index 1\n",
      "When asking, if 3 is in the array we get False\n"
     ]
    }
   ],
   "source": [
    "example_array = [1, 2, 3]\n",
    "example_array[2] = 4\n",
    "print(\"After modification of 2nd element of the array its text representation is\", example_array)\n",
    "print(\"2 is located under index\", example_array.index(2))\n",
    "print(\"When asking, if 3 is in the array we get\", 3 in example_array)"
   ]
  },
  {
   "cell_type": "markdown",
   "metadata": {},
   "source": [
    "We can add elements to arrays using attributes `append` and `insert` and remove them using attributes `pop` and `remove`."
   ]
  },
  {
   "cell_type": "code",
   "execution_count": 28,
   "metadata": {},
   "outputs": [
    {
     "name": "stdout",
     "output_type": "stream",
     "text": [
      "After extending the array its text representation is [1, 2, 3, 4]\n",
      "After inserting an element under 2nd index of the array the array's text representation is [1, 2, 2.5, 3, 4]\n",
      "After removing element from the array its text representation is [1, 2, 2.5, 3]\n",
      "After removing specified element from the array its text representation is [1, 2, 3]\n"
     ]
    }
   ],
   "source": [
    "example_array = [1, 2, 3]\n",
    "example_array.append(4)\n",
    "print(\"After extending the array its text representation is\", example_array)\n",
    "example_array.insert(2, 2.5)\n",
    "print(\"After inserting an element under 2nd index of the array the array's text representation is\", example_array)\n",
    "example_array.pop()\n",
    "print(\"After removing element from the array its text representation is\", example_array)\n",
    "example_array.remove(2.5)\n",
    "print(\"After removing specified element from the array its text representation is\", example_array)"
   ]
  }
 ],
 "metadata": {
  "kernelspec": {
   "display_name": "Python 3.9.6 ('pyML')",
   "language": "python",
   "name": "python3"
  },
  "language_info": {
   "codemirror_mode": {
    "name": "ipython",
    "version": 3
   },
   "file_extension": ".py",
   "mimetype": "text/x-python",
   "name": "python",
   "nbconvert_exporter": "python",
   "pygments_lexer": "ipython3",
   "version": "3.9.6"
  },
  "orig_nbformat": 4,
  "vscode": {
   "interpreter": {
    "hash": "43dbf5479a0fc87de1ee7ded1cd5b445b0b8a7634e32fcae97e87d9cabed96b1"
   }
  }
 },
 "nbformat": 4,
 "nbformat_minor": 2
}
