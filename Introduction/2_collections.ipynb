{
 "cells": [
  {
   "cell_type": "markdown",
   "metadata": {},
   "source": [
    "# Python introductory course"
   ]
  },
  {
   "cell_type": "markdown",
   "metadata": {},
   "source": [
    "## Collections"
   ]
  },
  {
   "cell_type": "markdown",
   "metadata": {},
   "source": [
    "#### In Python we can group values into collections. For example:"
   ]
  },
  {
   "cell_type": "markdown",
   "metadata": {},
   "source": [
    " - [Tuples](https://en.wikipedia.org/wiki/Tuple) - writen by separating values with a comma (`,`). Usually writen in parentheses. Tuples are immutable, that is, one cannot change, remove or add tuple members."
   ]
  },
  {
   "cell_type": "code",
   "execution_count": 1,
   "metadata": {},
   "outputs": [
    {
     "data": {
      "text/plain": [
       "(1, 2, 2, 'some value', 12.3134, True)"
      ]
     },
     "execution_count": 1,
     "metadata": {},
     "output_type": "execute_result"
    }
   ],
   "source": [
    "1, 2, 2, \"some value\", 12.3134, True"
   ]
  },
  {
   "cell_type": "markdown",
   "metadata": {},
   "source": [
    " - [Arrays](https://en.wikipedia.org/wiki/Array_(data_structure)) - also called lists, writen by separating with a comma in square brackets (`[ ]`). Can be modified."
   ]
  },
  {
   "cell_type": "code",
   "execution_count": 2,
   "metadata": {},
   "outputs": [
    {
     "data": {
      "text/plain": [
       "[1, 2, 2, 'some value', 12.3134, True]"
      ]
     },
     "execution_count": 2,
     "metadata": {},
     "output_type": "execute_result"
    }
   ],
   "source": [
    "[1, 2, 2, \"some value\", 12.3134, True]"
   ]
  },
  {
   "cell_type": "markdown",
   "metadata": {},
   "source": [
    " - [Sets](https://en.wikipedia.org/wiki/Set_(abstract_data_type)) - writen by separating with a comma in curly brackets (`{ }`). Mutable, however inserting several identical values result with only one contained. Also, sets do not hold the order."
   ]
  },
  {
   "cell_type": "code",
   "execution_count": 3,
   "metadata": {},
   "outputs": [
    {
     "data": {
      "text/plain": [
       "{1, 12.3134, 2, 'some value'}"
      ]
     },
     "execution_count": 3,
     "metadata": {},
     "output_type": "execute_result"
    }
   ],
   "source": [
    "{1, 2, 2, \"some value\", 12.3134, True}"
   ]
  },
  {
   "cell_type": "markdown",
   "metadata": {},
   "source": [
    " - [Maps](https://en.wikipedia.org/wiki/Associative_array) - called `dictionary` in Python. Collection of values with associated keys. Written by separating with a comma in curly brackets (`{ }`) with element written as a pair key-value separated by a colon (`:`). Cannot contain two values with the same key."
   ]
  },
  {
   "cell_type": "code",
   "execution_count": 4,
   "metadata": {},
   "outputs": [
    {
     "data": {
      "text/plain": [
       "{'key1': 1, 2: 2, 3: 2, 'another key': 'some value', True: 12.3134, 3.14: True}"
      ]
     },
     "execution_count": 4,
     "metadata": {},
     "output_type": "execute_result"
    }
   ],
   "source": [
    "{\"key1\":1, 2:1, 2:2, 3:2, \"another key\":\"some value\", True:12.3134, 3.14:True}"
   ]
  },
  {
   "cell_type": "markdown",
   "metadata": {},
   "source": [
    "and many others..."
   ]
  },
  {
   "cell_type": "markdown",
   "metadata": {},
   "source": [
    "### Operations on collections"
   ]
  },
  {
   "cell_type": "markdown",
   "metadata": {},
   "source": [
    "Collections should contain several accessible elements. Main operations on collections are finding, adding, removing and modifying elements."
   ]
  },
  {
   "cell_type": "markdown",
   "metadata": {},
   "source": [
    "##### Tuples are the most primitive form of a colection and are immutable. Tuples can be decomposed into several variables and each tuple element can be accessed by square brackets (`[ ]`) with the elements's index counting from $0$."
   ]
  },
  {
   "cell_type": "markdown",
   "metadata": {},
   "source": [
    "###### Collections in most programming languages are counted from 0 because programs hold information about location of the collection in computer's memory. Counting from zero means that we can access i-th element using formula $i \\cdot s + a$, where $s$ is the size of a single element (assuming all the elements of the same size) and $a$ is the address of the collection in the computer's memory."
   ]
  },
  {
   "cell_type": "code",
   "execution_count": 5,
   "metadata": {},
   "outputs": [
    {
     "name": "stdout",
     "output_type": "stream",
     "text": [
      "After decomposition, respectively, first, second, second and third element of the tuple are 1 2 2 3\n",
      "The text representation of the tuple is (1, 2, 3)\n",
      "1st element of the tuple is 2\n",
      "0th element of the tuple is 1\n"
     ]
    }
   ],
   "source": [
    "example_tuple = (1, 2, 3) # example_tuple = 1, 2, 3 is also a valid form\n",
    "a, b, c = example_tuple\n",
    "print(\"After decomposition, respectively, first, second, second and third element of the tuple are\",a, b, b, c)\n",
    "print(\"The text representation of the tuple is\", example_tuple)\n",
    "print(\"1st element of the tuple is\", example_tuple[1])\n",
    "print(\"0th element of the tuple is\", example_tuple[0])"
   ]
  },
  {
   "cell_type": "markdown",
   "metadata": {},
   "source": [
    "We can compute tuple length by using `len` call."
   ]
  },
  {
   "cell_type": "code",
   "execution_count": 6,
   "metadata": {},
   "outputs": [
    {
     "data": {
      "text/plain": [
       "3"
      ]
     },
     "execution_count": 6,
     "metadata": {},
     "output_type": "execute_result"
    }
   ],
   "source": [
    "example_tuple = 1, 2, 3\n",
    "len(example_tuple)"
   ]
  },
  {
   "cell_type": "markdown",
   "metadata": {},
   "source": [
    "##### Arrays (in Python called lists) are mutable (you can modify elements) and extendable (elements can be added or removed). Can be decomposed into several variables and elements are accessed by square brackets (`[ ]`) with the element's index counting from $0$."
   ]
  },
  {
   "cell_type": "code",
   "execution_count": 7,
   "metadata": {},
   "outputs": [
    {
     "name": "stdout",
     "output_type": "stream",
     "text": [
      "After decomposition, respectively, first, second, second and third element of the array are 1 2 2 3\n",
      "The text representation of the array is [1, 2, 3]\n",
      "1st element of the array is 2\n",
      "0th element of the array is 1\n"
     ]
    }
   ],
   "source": [
    "example_array = [1, 2, 3]\n",
    "a, b, c = example_array\n",
    "\n",
    "print(\"After decomposition, respectively, first, second, second and third element of the array are\",a, b, b, c)\n",
    "print(\"The text representation of the array is\", example_array)\n",
    "print(\"1st element of the array is\", example_array[1])\n",
    "print(\"0th element of the array is\", example_array[0])"
   ]
  },
  {
   "cell_type": "markdown",
   "metadata": {},
   "source": [
    "We can modify elements of arrays by assigning values under specified index. We can find index of an element by using array's attribute `index`. We can check if elemenent is in an array by using operator `in`."
   ]
  },
  {
   "cell_type": "code",
   "execution_count": 8,
   "metadata": {},
   "outputs": [
    {
     "name": "stdout",
     "output_type": "stream",
     "text": [
      "After modification of 2nd element of the array its text representation is [1, 2, 4]\n",
      "2 is located under index 1\n",
      "When asking, if 3 is in the array we get False\n"
     ]
    }
   ],
   "source": [
    "example_array = [1, 2, 3]\n",
    "example_array[2] = 4\n",
    "print(\"After modification of 2nd element of the array its text representation is\", example_array)\n",
    "print(\"2 is located under index\", example_array.index(2))\n",
    "print(\"When asking, if 3 is in the array we get\", 3 in example_array)"
   ]
  },
  {
   "cell_type": "markdown",
   "metadata": {},
   "source": [
    "We can add elements to arrays using attributes `append` and `insert` and remove them using attributes `pop` and `remove`."
   ]
  },
  {
   "cell_type": "code",
   "execution_count": 9,
   "metadata": {},
   "outputs": [
    {
     "name": "stdout",
     "output_type": "stream",
     "text": [
      "After extending the array its text representation is [1, 2, 3, 4]\n",
      "After inserting an element under 2nd index of the array the array's text representation is [1, 2, 2.5, 3, 4]\n",
      "After removing element from the array its text representation is [1, 2, 2.5, 3]\n",
      "After removing specified element from the array its text representation is [1, 2, 3]\n"
     ]
    }
   ],
   "source": [
    "example_array = [1, 2, 3]\n",
    "example_array.append(4)\n",
    "print(\"After extending the array its text representation is\", example_array)\n",
    "example_array.insert(2, 2.5)\n",
    "print(\"After inserting an element under 2nd index of the array the array's text representation is\", example_array)\n",
    "example_array.pop()\n",
    "print(\"After removing element from the array its text representation is\", example_array)\n",
    "example_array.remove(2.5)\n",
    "print(\"After removing specified element from the array its text representation is\", example_array)"
   ]
  },
  {
   "cell_type": "markdown",
   "metadata": {},
   "source": [
    "We can compute array length with `len` call."
   ]
  },
  {
   "cell_type": "code",
   "execution_count": 10,
   "metadata": {},
   "outputs": [
    {
     "data": {
      "text/plain": [
       "3"
      ]
     },
     "execution_count": 10,
     "metadata": {},
     "output_type": "execute_result"
    }
   ],
   "source": [
    "example_array = [1, 2, 3]\n",
    "len(example_array)"
   ]
  },
  {
   "cell_type": "markdown",
   "metadata": {},
   "source": [
    "##### Sets are modifiable and extendable. Can be decomposed into several variables. Sets are unordered and so are non-idexable (one cannot access an element by its index). Main advantage over arrays is fast testing for existance of an element. Sets' elements are immutable, you can only remove one and add another as a substitute of modification."
   ]
  },
  {
   "cell_type": "code",
   "execution_count": 11,
   "metadata": {},
   "outputs": [
    {
     "name": "stdout",
     "output_type": "stream",
     "text": [
      "After decomposition, respectively, first, second, second and third element of the set are 1 2 2 3\n",
      "The text representation of the set is {1, 2, 3}\n"
     ]
    }
   ],
   "source": [
    "example_set = {1, 2, 3}\n",
    "a, b, c = example_set\n",
    "\n",
    "print(\"After decomposition, respectively, first, second, second and third element of the set are\",a, b, b, c)\n",
    "print(\"The text representation of the set is\", example_set)"
   ]
  },
  {
   "cell_type": "markdown",
   "metadata": {},
   "source": [
    "We can add elements to sets using attribute `add` and remove them using attributes `discard`."
   ]
  },
  {
   "cell_type": "code",
   "execution_count": 12,
   "metadata": {},
   "outputs": [
    {
     "name": "stdout",
     "output_type": "stream",
     "text": [
      "After extending the set its text representation is {1, 2, 3, 4}\n",
      "After extending the set with an already existing element its text representation is {1, 2, 3, 4}\n",
      "After removing specified element from the set its text representation is {1, 2, 4}\n"
     ]
    }
   ],
   "source": [
    "example_set = {1, 2, 3}\n",
    "example_set.add(4)\n",
    "print(\"After extending the set its text representation is\", example_set)\n",
    "example_set.add(2)\n",
    "print(\"After extending the set with an already existing element its text representation is\", example_set)\n",
    "example_set.discard(3)\n",
    "print(\"After removing specified element from the set its text representation is\", example_set)"
   ]
  },
  {
   "cell_type": "markdown",
   "metadata": {},
   "source": [
    "We can also join sets (`union`) and find their intersections (`intersection`)."
   ]
  },
  {
   "cell_type": "code",
   "execution_count": 13,
   "metadata": {},
   "outputs": [
    {
     "name": "stdout",
     "output_type": "stream",
     "text": [
      "Union of {1, 2, 3} and {1, 3, 5, 6} is {1, 2, 3, 5, 6}\n",
      "Intersection of {1, 2, 3} and {1, 3, 5, 6} is {1, 3}\n"
     ]
    }
   ],
   "source": [
    "set1 = {1, 2, 3}\n",
    "set2 = {1, 3, 5, 6}\n",
    "print(\"Union of\", set1, \"and\", set2, \"is\", set1.union(set2))\n",
    "print(\"Intersection of\", set1, \"and\", set2, \"is\", set1.intersection(set2))"
   ]
  },
  {
   "cell_type": "markdown",
   "metadata": {},
   "source": [
    "We can compute set length with `len` call."
   ]
  },
  {
   "cell_type": "code",
   "execution_count": 14,
   "metadata": {},
   "outputs": [
    {
     "data": {
      "text/plain": [
       "3"
      ]
     },
     "execution_count": 14,
     "metadata": {},
     "output_type": "execute_result"
    }
   ],
   "source": [
    "example_set = {1, 2, 3}\n",
    "len(example_set)"
   ]
  },
  {
   "cell_type": "markdown",
   "metadata": {},
   "source": [
    "##### Dictionaries are modifiable and extendable. Can be decomposed as a list of keys into several variables. Dictionaries are unordered and so are non-idexable (one cannot access an element by its index) however values are accessible by their keys."
   ]
  },
  {
   "cell_type": "code",
   "execution_count": 15,
   "metadata": {},
   "outputs": [
    {
     "data": {
      "text/plain": [
       "('key1', 'key2', 'key3')"
      ]
     },
     "execution_count": 15,
     "metadata": {},
     "output_type": "execute_result"
    }
   ],
   "source": [
    "example_dictionary = {\"key1\":1, \"key2\":2, \"key3\":3}\n",
    "a, b, c = example_dictionary\n",
    "a, b, c"
   ]
  },
  {
   "cell_type": "markdown",
   "metadata": {},
   "source": [
    "We can modify elements of dictionaries by assigning values under specified key. We can check if elemenent is in an array by using operator `in`."
   ]
  },
  {
   "cell_type": "code",
   "execution_count": 16,
   "metadata": {},
   "outputs": [
    {
     "name": "stdout",
     "output_type": "stream",
     "text": [
      "After modification of 2nd element of the dictionary its text representation is {'key1': 1, 'key2': 4, 'key3': 3}\n",
      "When asking, if 3 is in the dictionary we get False as 'in' operator checks for keys, not values\n"
     ]
    }
   ],
   "source": [
    "example_dictionary = {\"key1\":1, \"key2\":2, \"key3\":3}\n",
    "example_dictionary[\"key2\"] = 4\n",
    "print(\"After modification of 2nd element of the dictionary its text representation is\", example_dictionary)\n",
    "print(\"When asking, if 3 is in the dictionary we get\", 3 in example_dictionary, \"as 'in' operator checks for keys, not values\")"
   ]
  },
  {
   "cell_type": "markdown",
   "metadata": {},
   "source": [
    "We can add elements to dictionaries by assigning under a specified key and remove them using attribute `pop`."
   ]
  },
  {
   "cell_type": "code",
   "execution_count": 17,
   "metadata": {},
   "outputs": [
    {
     "name": "stdout",
     "output_type": "stream",
     "text": [
      "After extending the dictionary its text representation is {'key1': 1, 'key2': 2, 'key3': 3, 'key4': 4}\n",
      "After removing specified element from the dictionary its text representation is {'key1': 1, 'key2': 2, 'key4': 4}\n"
     ]
    }
   ],
   "source": [
    "example_dictionary = {\"key1\":1, \"key2\":2, \"key3\":3}\n",
    "example_dictionary[\"key4\"] = 4\n",
    "print(\"After extending the dictionary its text representation is\", example_dictionary)\n",
    "example_dictionary.pop(\"key3\")\n",
    "print(\"After removing specified element from the dictionary its text representation is\", example_dictionary)"
   ]
  },
  {
   "cell_type": "markdown",
   "metadata": {},
   "source": [
    "We can compute dictionary length with `len` call."
   ]
  },
  {
   "cell_type": "code",
   "execution_count": 18,
   "metadata": {},
   "outputs": [
    {
     "data": {
      "text/plain": [
       "3"
      ]
     },
     "execution_count": 18,
     "metadata": {},
     "output_type": "execute_result"
    }
   ],
   "source": [
    "example_dictionary = {\"key1\":1, \"key2\":2, \"key3\":3}\n",
    "len(example_dictionary)"
   ]
  },
  {
   "cell_type": "markdown",
   "metadata": {},
   "source": [
    "### Collections can also be elements of other collections"
   ]
  },
  {
   "cell_type": "code",
   "execution_count": 19,
   "metadata": {},
   "outputs": [
    {
     "data": {
      "text/plain": [
       "{'PL': ['Warsaw'],\n",
       " 'NL': ['Hague', 'Amsterdam'],\n",
       " 'ZA': ['Pretoria', 'Bloemfontein', 'Cape Town']}"
      ]
     },
     "execution_count": 19,
     "metadata": {},
     "output_type": "execute_result"
    }
   ],
   "source": [
    "{\n",
    "    \"PL\": [\"Warsaw\"],\n",
    "    \"NL\": [\"Hague\", \"Amsterdam\"],\n",
    "    \"ZA\": [\"Pretoria\", \"Bloemfontein\", \"Cape Town\"]\n",
    "}"
   ]
  }
 ],
 "metadata": {
  "kernelspec": {
   "display_name": "Python 3.9.6 ('pyML')",
   "language": "python",
   "name": "python3"
  },
  "language_info": {
   "codemirror_mode": {
    "name": "ipython",
    "version": 3
   },
   "file_extension": ".py",
   "mimetype": "text/x-python",
   "name": "python",
   "nbconvert_exporter": "python",
   "pygments_lexer": "ipython3",
   "version": "3.9.6"
  },
  "orig_nbformat": 4,
  "vscode": {
   "interpreter": {
    "hash": "43dbf5479a0fc87de1ee7ded1cd5b445b0b8a7634e32fcae97e87d9cabed96b1"
   }
  }
 },
 "nbformat": 4,
 "nbformat_minor": 2
}
