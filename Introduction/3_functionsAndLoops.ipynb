{
 "cells": [
  {
   "cell_type": "markdown",
   "metadata": {},
   "source": [
    "# Python introductory course"
   ]
  },
  {
   "cell_type": "markdown",
   "metadata": {},
   "source": [
    "## Functions and loops"
   ]
  },
  {
   "cell_type": "markdown",
   "metadata": {},
   "source": [
    "#### In Python we can group blocks of code into `functions`. We can call them from outside multiplie times, each time providing other arguments. We can also group blocks of code into so-called `loops` which repeat execution of given code as long as some specified condition holds."
   ]
  },
  {
   "cell_type": "markdown",
   "metadata": {},
   "source": [
    "##### We define functions in the form `def FUNCTION_NAME(ARGUMENTS):` with the function body in the lines below indented by single indentation. `FUNCTION_NAME` has to be of the same form as a variable name. `ARGUMENTS` are labels separated by commas (`,`) we give to arguments given when the function is called."
   ]
  },
  {
   "cell_type": "code",
   "execution_count": 1,
   "metadata": {},
   "outputs": [],
   "source": [
    "def example_function(x, y, z):\n",
    "    m = max(1, min(x, y, z))\n",
    "    v = (x + y - z) / m\n",
    "    print(\"Value obtained inside the example function is\", v)"
   ]
  },
  {
   "cell_type": "markdown",
   "metadata": {},
   "source": [
    "##### We call function by writing its label succeded by arguments given in parentheses (`( )`) separated by commas (`,`)."
   ]
  },
  {
   "cell_type": "code",
   "execution_count": 2,
   "metadata": {},
   "outputs": [
    {
     "name": "stdout",
     "output_type": "stream",
     "text": [
      "Value obtained inside the example function is -5.0\n"
     ]
    }
   ],
   "source": [
    "example_function(5, 2, 17)"
   ]
  },
  {
   "cell_type": "markdown",
   "metadata": {},
   "source": [
    "##### Functions can also return values by adding keyword `return` succeded by the value to be returned. `return` keyword terminates the function so the code behind in the execution flow is ignored."
   ]
  },
  {
   "cell_type": "code",
   "execution_count": 3,
   "metadata": {},
   "outputs": [
    {
     "data": {
      "text/plain": [
       "-5"
      ]
     },
     "execution_count": 3,
     "metadata": {},
     "output_type": "execute_result"
    }
   ],
   "source": [
    "def example_function2(x, y, z):\n",
    "    return -5\n",
    "\n",
    "example_function2(5, 2, 17)"
   ]
  },
  {
   "cell_type": "code",
   "execution_count": 4,
   "metadata": {},
   "outputs": [
    {
     "data": {
      "text/plain": [
       "-5.0"
      ]
     },
     "execution_count": 4,
     "metadata": {},
     "output_type": "execute_result"
    }
   ],
   "source": [
    "def example_function3(x, y, z):\n",
    "    m = max(1, min(x, y, z))\n",
    "    v = (x + y - z) / m\n",
    "    return v\n",
    "\n",
    "example_function3(5, 2, 17)"
   ]
  },
  {
   "cell_type": "code",
   "execution_count": 5,
   "metadata": {},
   "outputs": [
    {
     "data": {
      "text/plain": [
       "-5.0"
      ]
     },
     "execution_count": 5,
     "metadata": {},
     "output_type": "execute_result"
    }
   ],
   "source": [
    "def example_function4(x, y, z):\n",
    "    m = max(1, min(x, y, z))\n",
    "    return (x + y - z) / m\n",
    "\n",
    "example_function4(5, 2, 17)"
   ]
  },
  {
   "cell_type": "markdown",
   "metadata": {},
   "source": [
    "##### We can also call functions with arguments given by variables. Note, that the names of arguments inside functions are separate from outside labels. Note, that the arguments are called `x`, `y` and `z` and we call the function setting them as `z`, `x` and `y` respectively."
   ]
  },
  {
   "cell_type": "code",
   "execution_count": 6,
   "metadata": {},
   "outputs": [
    {
     "data": {
      "text/plain": [
       "-5.0"
      ]
     },
     "execution_count": 6,
     "metadata": {},
     "output_type": "execute_result"
    }
   ],
   "source": [
    "x, y, z = 2, 17, 5\n",
    "example_function4(z, x, y)"
   ]
  },
  {
   "cell_type": "markdown",
   "metadata": {},
   "source": [
    "#### Another example of a block of code is so called `if-statement`. It steers the execution flow towards one of the branches depending on some given condition. We write it as `if` keyword succeded by the condition and a colon (`:`)."
   ]
  },
  {
   "cell_type": "code",
   "execution_count": 7,
   "metadata": {},
   "outputs": [
    {
     "name": "stdout",
     "output_type": "stream",
     "text": [
      "This code will be executed\n",
      "Not indented code is not affected by the preceding conditions\n"
     ]
    }
   ],
   "source": [
    "if True:\n",
    "    print(\"This code will be executed\")\n",
    "\n",
    "if False:\n",
    "    print(\"This code will not be executed\")\n",
    "\n",
    "print(\"Not indented code is not affected by the preceding conditions\")"
   ]
  },
  {
   "cell_type": "markdown",
   "metadata": {},
   "source": [
    "We can also add `else` statement to add a branch for not held conditions."
   ]
  },
  {
   "cell_type": "code",
   "execution_count": 8,
   "metadata": {},
   "outputs": [
    {
     "name": "stdout",
     "output_type": "stream",
     "text": [
      "This, however, will\n"
     ]
    }
   ],
   "source": [
    "if False:\n",
    "    print(\"This will not be printed\")\n",
    "else:\n",
    "    print(\"This, however, will\")"
   ]
  },
  {
   "cell_type": "markdown",
   "metadata": {},
   "source": [
    "Also we can add another conditions for cases when the first condition does not hold by using `elif` statement."
   ]
  },
  {
   "cell_type": "code",
   "execution_count": 9,
   "metadata": {},
   "outputs": [
    {
     "name": "stdout",
     "output_type": "stream",
     "text": [
      "5 is greater than 3\n"
     ]
    }
   ],
   "source": [
    "a = 5\n",
    "b = 3\n",
    "\n",
    "if a > b:\n",
    "    print(a, \"is greater than\", b)\n",
    "elif a == b:\n",
    "    print(a, \"is equal to\", b)\n",
    "else:\n",
    "    print(a, \"is smaller than\", b)"
   ]
  },
  {
   "cell_type": "markdown",
   "metadata": {},
   "source": [
    "#### If a function calls itself from its body we call it a `recursion`. This can be used to repeat some operations some amount of iterations."
   ]
  },
  {
   "cell_type": "code",
   "execution_count": 10,
   "metadata": {},
   "outputs": [
    {
     "data": {
      "text/plain": [
       "3628800"
      ]
     },
     "execution_count": 10,
     "metadata": {},
     "output_type": "execute_result"
    }
   ],
   "source": [
    "def factorial(n):\n",
    "    if n == 0 or n == 1:\n",
    "        return 1\n",
    "    return factorial(n - 1) * n\n",
    "\n",
    "factorial(10)"
   ]
  },
  {
   "cell_type": "markdown",
   "metadata": {},
   "source": [
    "#### Instead of using recursion, which is rather not recommended to use, we can use so called `loop` statements like `for` and `while`."
   ]
  },
  {
   "cell_type": "markdown",
   "metadata": {},
   "source": [
    "##### The `while` statement repeats a set of commands as long, as a given condition holds. We write it as `while` keyword succeded by the condition and finished with a colon (`:`). The command block to be repeated should be indented. The block ends on the first line non-indented."
   ]
  },
  {
   "cell_type": "code",
   "execution_count": 11,
   "metadata": {},
   "outputs": [
    {
     "name": "stdout",
     "output_type": "stream",
     "text": [
      "22\n",
      "11.0\n",
      "34.0\n",
      "17.0\n",
      "52.0\n",
      "26.0\n",
      "13.0\n",
      "40.0\n",
      "20.0\n",
      "10.0\n",
      "5.0\n",
      "16.0\n",
      "8.0\n",
      "4.0\n",
      "2.0\n",
      "1.0\n"
     ]
    }
   ],
   "source": [
    "a = 7\n",
    "while a > 1:\n",
    "    if a % 2 == 0:\n",
    "        a = a / 2\n",
    "    else:\n",
    "        a = 3 * a + 1\n",
    "    print(a)"
   ]
  },
  {
   "cell_type": "markdown",
   "metadata": {},
   "source": [
    "##### Another type of loop is `for` loop. This one executes the block of command for each element of a given collection assigned to a variable. We write it as `for` succeded by the label for collection elements, then `in` succeded by the collection with a colon (`:`) closing the line. The command block should be indented and it ends on the first line which is not indented."
   ]
  },
  {
   "cell_type": "code",
   "execution_count": 12,
   "metadata": {},
   "outputs": [
    {
     "data": {
      "text/plain": [
       "120"
      ]
     },
     "execution_count": 12,
     "metadata": {},
     "output_type": "execute_result"
    }
   ],
   "source": [
    "result = 1\n",
    "for n in [1, 2, 3, 4, 5]:\n",
    "    result = result * n\n",
    "result"
   ]
  },
  {
   "cell_type": "markdown",
   "metadata": {},
   "source": [
    "Often the collection used for `for` loops is a list of integers from $0$ to some positive integer. We can construct such with a call `range`. This command, for given arguments `a` and `b` produces a list of integers from $a$ to $b - 1$."
   ]
  },
  {
   "cell_type": "code",
   "execution_count": 13,
   "metadata": {},
   "outputs": [
    {
     "name": "stdout",
     "output_type": "stream",
     "text": [
      "Product of integers from 1 to 99 is 933262154439441526816992388562667004907159682643816214685929638952175999932299156089414639761565182862536979208272237582511852109168640000000000000000000000\n"
     ]
    }
   ],
   "source": [
    "result = 1\n",
    "a, b = 1, 100\n",
    "for n in range(a, b):\n",
    "    result = result * n\n",
    "print(\"Product of integers from\", a, \"to\", b - 1, \"is\", result)"
   ]
  },
  {
   "cell_type": "markdown",
   "metadata": {},
   "source": [
    "##### If we want to create a new list based on some previous one, `for` loops can also be stated as one-line so-called `list comprehension`. We write it in square brackets (`[ ]`) as value of the element of the final list, `for` keyword, an element of the initial list, `in` keyword and the list to be processed."
   ]
  },
  {
   "cell_type": "code",
   "execution_count": 14,
   "metadata": {},
   "outputs": [
    {
     "name": "stdout",
     "output_type": "stream",
     "text": [
      "[0, 2, 4, 6, 8, 10, 12, 14, 16, 18]\n",
      "[[], [0], [0, 1], [0, 1, 2], [0, 1, 2, 3], [0, 1, 2, 3, 4], [0, 1, 2, 3, 4, 5], [0, 1, 2, 3, 4, 5, 6], [0, 1, 2, 3, 4, 5, 6, 7], [0, 1, 2, 3, 4, 5, 6, 7, 8]]\n"
     ]
    }
   ],
   "source": [
    "print([2 * x for x in range(10)])\n",
    "print([list(range(i)) for i in range(10)])"
   ]
  }
 ],
 "metadata": {
  "kernelspec": {
   "display_name": "Python 3.9.6 ('pyML')",
   "language": "python",
   "name": "python3"
  },
  "language_info": {
   "codemirror_mode": {
    "name": "ipython",
    "version": 3
   },
   "file_extension": ".py",
   "mimetype": "text/x-python",
   "name": "python",
   "nbconvert_exporter": "python",
   "pygments_lexer": "ipython3",
   "version": "3.9.6"
  },
  "orig_nbformat": 4,
  "vscode": {
   "interpreter": {
    "hash": "43dbf5479a0fc87de1ee7ded1cd5b445b0b8a7634e32fcae97e87d9cabed96b1"
   }
  }
 },
 "nbformat": 4,
 "nbformat_minor": 2
}
