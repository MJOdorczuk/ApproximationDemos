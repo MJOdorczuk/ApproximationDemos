{
 "cells": [
  {
   "cell_type": "markdown",
   "metadata": {},
   "source": [
    "# Python introductory course"
   ]
  },
  {
   "cell_type": "markdown",
   "metadata": {},
   "source": [
    "## Functions and loops"
   ]
  },
  {
   "cell_type": "markdown",
   "metadata": {},
   "source": [
    "#### In Python we can group blocks of code into `functions`. We can call them from outside multiplie times, each time providing other arguments. We can also group blocks of code into so-called `loops` which repeat execution of given code as long as some specified condition holds."
   ]
  },
  {
   "cell_type": "markdown",
   "metadata": {},
   "source": [
    "##### We define functions in the form `def FUNCTION_NAME(ARGUMENTS):` with the function body in the lines below indented by single indentation. `FUNCTION_NAME` has to be of the same form as a variable name. `ARGUMENTS` are labels separated by commas (`,`) we give to arguments given when the function is called."
   ]
  },
  {
   "cell_type": "code",
   "execution_count": 1,
   "metadata": {},
   "outputs": [],
   "source": [
    "def example_function(x, y, z):\n",
    "    m = max(1, min(x, y, z))\n",
    "    v = (x + y - z) / m\n",
    "    print(\"Value obtained inside the example function is\", v)"
   ]
  },
  {
   "cell_type": "markdown",
   "metadata": {},
   "source": [
    "##### We call function by writing its label succeded by arguments given in parentheses (`( )`) separated by commas (`,`)."
   ]
  },
  {
   "cell_type": "code",
   "execution_count": 2,
   "metadata": {},
   "outputs": [
    {
     "name": "stdout",
     "output_type": "stream",
     "text": [
      "Value obtained inside the example function is -5.0\n"
     ]
    }
   ],
   "source": [
    "example_function(5, 2, 17)"
   ]
  },
  {
   "cell_type": "markdown",
   "metadata": {},
   "source": [
    "##### Functions can also return values by adding keyword `return` succeded by the value to be returned. `return` keyword terminates the function so the code behind in the execution flow is ignored."
   ]
  },
  {
   "cell_type": "code",
   "execution_count": 3,
   "metadata": {},
   "outputs": [
    {
     "data": {
      "text/plain": [
       "5"
      ]
     },
     "execution_count": 3,
     "metadata": {},
     "output_type": "execute_result"
    }
   ],
   "source": [
    "def example_function2(x, y, z):\n",
    "    return 5\n",
    "\n",
    "example_function2(2, 6, 1)"
   ]
  },
  {
   "cell_type": "code",
   "execution_count": 4,
   "metadata": {},
   "outputs": [],
   "source": [
    "def example_function3(x, y, z):\n",
    "    m = max(1, min(x, y, z))\n",
    "    v = (x + y - z) / m\n",
    "    return v"
   ]
  }
 ],
 "metadata": {
  "kernelspec": {
   "display_name": "Python 3.9.6 ('pyML')",
   "language": "python",
   "name": "python3"
  },
  "language_info": {
   "codemirror_mode": {
    "name": "ipython",
    "version": 3
   },
   "file_extension": ".py",
   "mimetype": "text/x-python",
   "name": "python",
   "nbconvert_exporter": "python",
   "pygments_lexer": "ipython3",
   "version": "3.9.6"
  },
  "orig_nbformat": 4,
  "vscode": {
   "interpreter": {
    "hash": "43dbf5479a0fc87de1ee7ded1cd5b445b0b8a7634e32fcae97e87d9cabed96b1"
   }
  }
 },
 "nbformat": 4,
 "nbformat_minor": 2
}
