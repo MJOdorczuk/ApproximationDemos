{
 "cells": [
  {
   "cell_type": "markdown",
   "metadata": {},
   "source": [
    "# Python introductory course"
   ]
  },
  {
   "cell_type": "markdown",
   "metadata": {},
   "source": [
    "## Imports and basic libraries"
   ]
  },
  {
   "cell_type": "markdown",
   "metadata": {},
   "source": [
    "##### There are many functionalities already programmed for Python so there is no need to write them anew. Some of them, however, we must import as including all of them would be a very heavy load to the programming environment and could produce some potential name conflicts. These functionalities are grouped in so called `libraries` also called `packages` or `modules`."
   ]
  },
  {
   "cell_type": "markdown",
   "metadata": {},
   "source": [
    "#### We import libraries by writing keyword `import` succeded by the name of the library. We can then use its functionalities by calling the package name succeded by a dot (`.`) and the functionality label."
   ]
  },
  {
   "cell_type": "code",
   "execution_count": 1,
   "metadata": {},
   "outputs": [
    {
     "data": {
      "text/plain": [
       "0.49999999999999994"
      ]
     },
     "execution_count": 1,
     "metadata": {},
     "output_type": "execute_result"
    }
   ],
   "source": [
    "import math\n",
    "\n",
    "math.sin(math.pi / 6)"
   ]
  },
  {
   "cell_type": "markdown",
   "metadata": {},
   "source": [
    "#### We can also import functionalities from libraries so we do not have to call the name of the library in our code. We do it by using `from` keyword succeded by the name of the library, then `import` keyword succeded by the name of the functionality. We can import several functionalities by separating their names with a comma (`,`)."
   ]
  },
  {
   "cell_type": "code",
   "execution_count": 2,
   "metadata": {},
   "outputs": [
    {
     "data": {
      "text/plain": [
       "0.6595834124225789"
      ]
     },
     "execution_count": 2,
     "metadata": {},
     "output_type": "execute_result"
    }
   ],
   "source": [
    "from math import cos, e\n",
    "\n",
    "e ** (cos(2))"
   ]
  },
  {
   "cell_type": "markdown",
   "metadata": {},
   "source": [
    "#### If we want to import a library but its name is long we can use an alias. We do it by writing `import` succeded by the name of the library, then `as` and the alias."
   ]
  },
  {
   "cell_type": "code",
   "execution_count": 3,
   "metadata": {},
   "outputs": [
    {
     "name": "stdout",
     "output_type": "stream",
     "text": [
      "[1, 2, 3, 4, 1, 2, 3, 4, 1, 2, 3, 4, 1, 2, 3]\n"
     ]
    }
   ],
   "source": [
    "import itertools as it\n",
    "\n",
    "loop = it.cycle([1, 2, 3, 4])\n",
    "\n",
    "print(list(it.islice(loop, 15)))"
   ]
  },
  {
   "cell_type": "markdown",
   "metadata": {},
   "source": [
    "### Some libraries we are going to use during this course are:\n",
    "\n",
    " - [matplotlib](https://matplotlib.org/),\n",
    " - [timeit](https://docs.python.org/3/library/timeit.html),\n",
    " - [numpy](https://numpy.org/),\n",
    " - [math](https://docs.python.org/3/library/math.html),\n",
    " - [collections](https://docs.python.org/3/library/collections.html),\n",
    " - [heapq](https://docs.python.org/3/library/heapq.html).\n"
   ]
  },
  {
   "cell_type": "markdown",
   "metadata": {},
   "source": [
    "###### Note, that some of the mentioned libraries need to be installed in your Python environment. Depending on your environment it can be written in command line/terminal as `pip install <PACKAGE_NAME>`, `conda install <PACKAGE_NAME>`, `pip3 install <PACKAGE_NAME>` or other."
   ]
  },
  {
   "cell_type": "markdown",
   "metadata": {},
   "source": [
    "### Matplotlib\n",
    "\n",
    "It is a graph plotting library and we are going to use mainly submodule `pyplot`. We import it usually as `from matplotlib import pyplot as plt`. This library is not a standard Python library and requires separate installation.\n",
    "\n",
    "We are mainly going to plot data with `plt.plot` and `plt.scatter`. Interactive notebook does not require `plt.show()` call, it is normally required though."
   ]
  },
  {
   "cell_type": "code",
   "execution_count": 4,
   "metadata": {},
   "outputs": [
    {
     "data": {
      "text/plain": [
       "[<matplotlib.lines.Line2D at 0x2b4ee8c2040>]"
      ]
     },
     "execution_count": 4,
     "metadata": {},
     "output_type": "execute_result"
    },
    {
     "data": {
      "image/png": "[encoded data removed]",
      "text/plain": [
       "<Figure size 432x288 with 1 Axes>"
      ]
     },
     "metadata": {
      "needs_background": "light"
     },
     "output_type": "display_data"
    }
   ],
   "source": [
    "from matplotlib import pyplot as plt\n",
    "\n",
    "ys = [4, 2, 3, 9, 0, 2]\n",
    "plt.plot(ys)"
   ]
  },
  {
   "cell_type": "code",
   "execution_count": 5,
   "metadata": {},
   "outputs": [
    {
     "data": {
      "text/plain": [
       "<matplotlib.collections.PathCollection at 0x2b4ee9acb80>"
      ]
     },
     "execution_count": 5,
     "metadata": {},
     "output_type": "execute_result"
    },
    {
     "data": {
      "image/png": "[encoded data removed]",
      "text/plain": [
       "<Figure size 432x288 with 1 Axes>"
      ]
     },
     "metadata": {
      "needs_background": "light"
     },
     "output_type": "display_data"
    }
   ],
   "source": [
    "xs = [1, 5, 2, 3]\n",
    "ys = [6, 2, 0, -5]\n",
    "\n",
    "plt.scatter(xs, ys)"
   ]
  },
  {
   "cell_type": "markdown",
   "metadata": {},
   "source": [
    "### Numpy\n",
    "\n",
    "It is a numerical operation library. We import is usually as `import numpy as np`.\n",
    "\n",
    "We use it for accelerated computations and for operations on arrays and matrices."
   ]
  },
  {
   "cell_type": "code",
   "execution_count": 6,
   "metadata": {},
   "outputs": [
    {
     "name": "stdout",
     "output_type": "stream",
     "text": [
      "[ 0 10 20 30 40 50 60 70 80 90]\n",
      "[  0  20  40  60  80 100 120 140 160 180]\n",
      "[  1  21  41  61  81 101 121 141 161 181]\n",
      "[0.         3.16227766 4.47213595 5.47722558 6.32455532 7.07106781\n",
      " 7.74596669 8.36660027 8.94427191 9.48683298]\n"
     ]
    }
   ],
   "source": [
    "import numpy as np\n",
    "\n",
    "l = np.arange(0, 100, 10)\n",
    "print(l)\n",
    "print(l + l)\n",
    "print(l * 2 + 1)\n",
    "print(np.sqrt(l))"
   ]
  }
 ],
 "metadata": {
  "kernelspec": {
   "display_name": "Python 3.9.6 ('pyML')",
   "language": "python",
   "name": "python3"
  },
  "language_info": {
   "codemirror_mode": {
    "name": "ipython",
    "version": 3
   },
   "file_extension": ".py",
   "mimetype": "text/x-python",
   "name": "python",
   "nbconvert_exporter": "python",
   "pygments_lexer": "ipython3",
   "version": "3.9.6"
  },
  "orig_nbformat": 4,
  "vscode": {
   "interpreter": {
    "hash": "43dbf5479a0fc87de1ee7ded1cd5b445b0b8a7634e32fcae97e87d9cabed96b1"
   }
  }
 },
 "nbformat": 4,
 "nbformat_minor": 2
}
